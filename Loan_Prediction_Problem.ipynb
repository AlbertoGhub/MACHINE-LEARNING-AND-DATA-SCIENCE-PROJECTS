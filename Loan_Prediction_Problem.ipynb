{
 "cells": [
  {
   "cell_type": "markdown",
   "id": "e99fc9dd",
   "metadata": {},
   "source": [
    "### This excersice is designed to solve binary classification.\n",
    "\n",
    "#### Expectations:\n",
    "\n",
    "    1. Introduction to the problem\n",
    "\n",
    "    2. Exploratory Data Analysis (EDA) and Pre-Processing\n",
    "\n",
    "    3. Model building and Feature engineering\n",
    "    \n",
    "#### Problem Statement:\n",
    "\n",
    "Dream Housing Finance company deals in all home loans. They have a presence across all urban, semi-urban and rural areas. Customers first apply for a home loan after that company validates the customer’s eligibility for a loan. The company wants to automate the loan eligibility process (real-time) based on customer detail provided while filling out the online application form. These details are Gender, Marital Status, Education, Number of Dependents, Income, Loan Amount, Credit History, and others. To automate this process, they have given a problem to identify the customer segments, that are eligible for loan amounts so that they can specifically target these customers.\n",
    "\n",
    "It is a classification problem where we have to predict whether a loan would be approved or not. "
   ]
  },
  {
   "cell_type": "code",
   "execution_count": null,
   "id": "f89fe695",
   "metadata": {},
   "outputs": [],
   "source": []
  }
 ],
 "metadata": {
  "kernelspec": {
   "display_name": "Python 3 (ipykernel)",
   "language": "python",
   "name": "python3"
  },
  "language_info": {
   "codemirror_mode": {
    "name": "ipython",
    "version": 3
   },
   "file_extension": ".py",
   "mimetype": "text/x-python",
   "name": "python",
   "nbconvert_exporter": "python",
   "pygments_lexer": "ipython3",
   "version": "3.10.4"
  }
 },
 "nbformat": 4,
 "nbformat_minor": 5
}
